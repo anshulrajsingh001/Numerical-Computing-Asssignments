{
 "cells": [
  {
   "cell_type": "markdown",
   "metadata": {
    "vscode": {
     "languageId": "plaintext"
    }
   },
   "source": [
    "## Chapter 1 Exercises"
   ]
  },
  {
   "cell_type": "markdown",
   "metadata": {
    "vscode": {
     "languageId": "plaintext"
    }
   },
   "source": [
    "### Problem 1: \n",
    "Print “I love Python” using Python Shell."
   ]
  },
  {
   "cell_type": "code",
   "execution_count": 1,
   "metadata": {},
   "outputs": [
    {
     "name": "stdout",
     "output_type": "stream",
     "text": [
      "I love python.\n"
     ]
    }
   ],
   "source": [
    "print(\"I love python.\")"
   ]
  },
  {
   "cell_type": "markdown",
   "metadata": {},
   "source": [
    "### Problem 2:\n",
    "Print “I love Python” by typing it into a .py file and run it from command line."
   ]
  },
  {
   "cell_type": "markdown",
   "metadata": {},
   "source": [
    "### Problem 3\n",
    "Type import antigravity in the IPython Shell, which will take you to xkcd and enable you to see the awesome Python."
   ]
  },
  {
   "cell_type": "code",
   "execution_count": 3,
   "metadata": {},
   "outputs": [],
   "source": [
    "import antigravity # Will take you to https://xkcd.com/353/."
   ]
  },
  {
   "cell_type": "markdown",
   "metadata": {},
   "source": [
    "### Problem 4\n",
    "Launch a new Jupyter notebook server in a folder called “exercise” and create a new Python notebook with the name “exercise_1.” Put the rest of the problems within this notebook."
   ]
  },
  {
   "cell_type": "markdown",
   "metadata": {},
   "source": [
    "### Problem 5\n",
    "\n",
    "Compute the area of a triangle with base 10 and height 12. Recall that the area of a triangle is half the base times the height."
   ]
  },
  {
   "cell_type": "code",
   "execution_count": 4,
   "metadata": {},
   "outputs": [
    {
     "name": "stdout",
     "output_type": "stream",
     "text": [
      "60.0\n"
     ]
    }
   ],
   "source": [
    "base = 10\n",
    "height = 12\n",
    "\n",
    "area = 0.5 * base * height\n",
    "print(area)"
   ]
  },
  {
   "cell_type": "markdown",
   "metadata": {},
   "source": [
    "### Problem 6\n",
    "Compute the surface area and volume of a cylinder with radius 5 and height 3."
   ]
  },
  {
   "cell_type": "code",
   "execution_count": 5,
   "metadata": {},
   "outputs": [],
   "source": [
    "r = 5 \n",
    "h = 3\n",
    "pi = 3.14159\n",
    "\n",
    "surface_area = 2 * pi * r * r +  2 * pi * r * h\n",
    "volume = pi * r * r * h"
   ]
  },
  {
   "cell_type": "markdown",
   "metadata": {},
   "source": [
    "### Problem 7\n",
    "Compute the slope between the points (3, 4) and (5, 9). Recall that the slope between points (x1, y1) and (x2, y2) is (y2−y1) / (x2−x1)."
   ]
  },
  {
   "cell_type": "code",
   "execution_count": 6,
   "metadata": {},
   "outputs": [],
   "source": [
    "point1 = (3, 4)\n",
    "point2 = (5, 9)\n",
    "\n",
    "slope = (point2[1] - point1[1]) / (point2[0] - point1[0])"
   ]
  },
  {
   "cell_type": "markdown",
   "metadata": {},
   "source": [
    "### Problem 8\n",
    "Compute the distance between the points (3, 4) and (5, 9)."
   ]
  },
  {
   "cell_type": "code",
   "execution_count": 7,
   "metadata": {},
   "outputs": [],
   "source": [
    "import math"
   ]
  },
  {
   "cell_type": "code",
   "execution_count": 8,
   "metadata": {},
   "outputs": [],
   "source": [
    "p1 = (3, 4)\n",
    "p2 = (5, 9)\n",
    "\n",
    "distance = math.sqrt((p1[0] - p2[0]) * (p1[0] - p2[0]) + (p1[1] - p2[1]) * (p1[1] - p2[1]))"
   ]
  },
  {
   "cell_type": "markdown",
   "metadata": {},
   "source": [
    "### Problem 9\n",
    "Use Python’s factorial function to compute 6!"
   ]
  },
  {
   "cell_type": "code",
   "execution_count": 9,
   "metadata": {},
   "outputs": [
    {
     "data": {
      "text/plain": [
       "720"
      ]
     },
     "execution_count": 9,
     "metadata": {},
     "output_type": "execute_result"
    }
   ],
   "source": [
    "math.factorial(6)"
   ]
  },
  {
   "cell_type": "markdown",
   "metadata": {},
   "source": [
    "### Problem 10\n",
    "Although a year is considered to be 365 days long, a more exact figure is 365.24 days. As a consequence, if we held to the standard 365-day year, we would gradually lose that fraction of the day over time, and seasons and other astronomical events would not occur as expected. To keep the timescale on tract, a leap year is a year that includes an extra day, February 29, to keep the timescale on track. Leap years occur on years that are exactly divisible by 4, unless it is exactly divisible by 100, unless it is divisible by 400. For example, the year 2004 is a leap year, the year 1900 is not a leap year, and the year 2000 is a leap year. Compute the number of leap years between the years 1500 and 2010."
   ]
  },
  {
   "cell_type": "code",
   "execution_count": 10,
   "metadata": {},
   "outputs": [
    {
     "name": "stdout",
     "output_type": "stream",
     "text": [
      "124\n"
     ]
    }
   ],
   "source": [
    "leap_yrs = 0\n",
    "for i in range(1500, 2009, 4):\n",
    "    if i % 100 != 0:\n",
    "        leap_yrs += 1\n",
    "    else:\n",
    "        if i % 400 == 0:\n",
    "            leap_yrs += 1\n",
    "            \n",
    "print(leap_yrs)"
   ]
  },
  {
   "cell_type": "markdown",
   "metadata": {},
   "source": [
    "### Problem 11\n",
    "A very powerful approximation for $\\pi$ was developed by a brilliant mathematician named Srinivasa Ramanujan. The approximation is the following:\n",
    "$$\\frac{1}{\\pi}\\approx\\frac{2\\sqrt{2}}{9801}\\sum\\limits_{k=0}^{N}\\frac{(4k)!(1103+26390k)}{(k!)^4(396^{4k})}.$$\n",
    "Use Ramanujan’s formula for N = 0 and N = 1 to approximate $\\pi$. Compare your approximation with Python’s stored value for $\\pi$. Hint: 0! = 1 by definition"
   ]
  },
  {
   "cell_type": "code",
   "execution_count": 11,
   "metadata": {},
   "outputs": [
    {
     "name": "stdout",
     "output_type": "stream",
     "text": [
      "3.1415927300133055\n",
      "3.141592653589794\n",
      "3.141592653589793\n"
     ]
    }
   ],
   "source": [
    "import math\n",
    "\n",
    "def numerator(a):\n",
    "    return math.factorial(4*a)*(1103+26390*a)\n",
    "\n",
    "def denominator(a):\n",
    "    return (math.factorial(a)**4)*(396**(4*a))\n",
    "\n",
    "const = 9801 / (2 * math.sqrt(2))\n",
    "\n",
    "pi_N1 = const * denominator(0) / numerator(0)\n",
    "print(pi_N1)\n",
    "\n",
    "pi_N2 = const * (1 / ((numerator(0)/denominator(0)) + (numerator(1)/denominator(1))))\n",
    "print(pi_N2)\n",
    "\n",
    "python_pi = math.pi\n",
    "print(python_pi)\n",
    "\n",
    "# pi_N1 < python_pi < pi_N2"
   ]
  },
  {
   "cell_type": "markdown",
   "metadata": {},
   "source": [
    "### Problem 12\n",
    "The hyperbolic $\\sin$ or $\\sinh$ is defined in terms of exponentials as $\\sinh(x) = \\frac{\\exp(x)−\\exp(−x)}{2}$. Compute $\\sinh$ for x = 2 using exponentials. Verify that the result is indeed the hyperbolic sin using Python’s function $\\sinh$ in the math module."
   ]
  },
  {
   "cell_type": "code",
   "execution_count": 12,
   "metadata": {},
   "outputs": [
    {
     "name": "stdout",
     "output_type": "stream",
     "text": [
      "3.626860407847019\n",
      "3.6268604078470186\n"
     ]
    }
   ],
   "source": [
    "x = 2\n",
    "\n",
    "sinh_x = (math.exp(x) - math.exp(-x)) / 2\n",
    "print(sinh_x)\n",
    "\n",
    "python_sinh = math.sinh(x)\n",
    "print(python_sinh)"
   ]
  },
  {
   "cell_type": "markdown",
   "metadata": {},
   "source": [
    "### Problem 13\n",
    "Verify that $\\sin 2(x) + \\cos 2(x) = 1$ for $x = \\pi, \\pi/2, \\pi/4, \\pi/6$."
   ]
  },
  {
   "cell_type": "markdown",
   "metadata": {},
   "source": [
    "### Problem 14\n",
    "Compute the $\\sin 87^{\\circ}$."
   ]
  },
  {
   "cell_type": "markdown",
   "metadata": {},
   "source": [
    "### Problem 15\n",
    "Write a Python statement that generates the following error: “AttributeError: module ‘math’ has no attribute ‘sni’.” Hint: sni is a misspelling of the function sin."
   ]
  },
  {
   "cell_type": "code",
   "execution_count": 13,
   "metadata": {},
   "outputs": [
    {
     "ename": "AttributeError",
     "evalue": "module 'math' has no attribute 'sni'",
     "output_type": "error",
     "traceback": [
      "\u001b[1;31m---------------------------------------------------------------------------\u001b[0m",
      "\u001b[1;31mAttributeError\u001b[0m                            Traceback (most recent call last)",
      "Cell \u001b[1;32mIn[13], line 1\u001b[0m\n\u001b[1;32m----> 1\u001b[0m \u001b[43mmath\u001b[49m\u001b[38;5;241;43m.\u001b[39;49m\u001b[43msni\u001b[49m(\u001b[38;5;241m1\u001b[39m)\n",
      "\u001b[1;31mAttributeError\u001b[0m: module 'math' has no attribute 'sni'"
     ]
    }
   ],
   "source": [
    "math.sni(1)"
   ]
  },
  {
   "cell_type": "markdown",
   "metadata": {},
   "source": [
    "### Problem 16\n",
    "Write a Python statement that generates the following error: “TypeError: sin() takes exactly one argument (0 given).” Hint: Input arguments refers to the input of a function (any function); for example, the input in sin($\\pi$/2) is $\\pi$/2."
   ]
  },
  {
   "cell_type": "code",
   "execution_count": 39,
   "metadata": {},
   "outputs": [
    {
     "ename": "TypeError",
     "evalue": "math.sin() takes exactly one argument (0 given)",
     "output_type": "error",
     "traceback": [
      "\u001b[1;31m---------------------------------------------------------------------------\u001b[0m",
      "\u001b[1;31mTypeError\u001b[0m                                 Traceback (most recent call last)",
      "Cell \u001b[1;32mIn[39], line 1\u001b[0m\n\u001b[1;32m----> 1\u001b[0m \u001b[43mmath\u001b[49m\u001b[38;5;241;43m.\u001b[39;49m\u001b[43msin\u001b[49m\u001b[43m(\u001b[49m\u001b[43m)\u001b[49m\n",
      "\u001b[1;31mTypeError\u001b[0m: math.sin() takes exactly one argument (0 given)"
     ]
    }
   ],
   "source": [
    "math.sin()"
   ]
  },
  {
   "cell_type": "markdown",
   "metadata": {},
   "source": [
    "### Problem 17\n",
    "If P is a logical expression, the law of noncontradiction states that P AND (NOT P) is always false. Verify this for P true and P false."
   ]
  },
  {
   "cell_type": "code",
   "execution_count": 41,
   "metadata": {},
   "outputs": [
    {
     "name": "stdout",
     "output_type": "stream",
     "text": [
      "False\n",
      "False\n"
     ]
    }
   ],
   "source": [
    "# For p = true\n",
    "p = True\n",
    "print(p and (not p))\n",
    "\n",
    "# For p = false\n",
    "print(p and (not p))"
   ]
  },
  {
   "cell_type": "markdown",
   "metadata": {},
   "source": [
    "### Problem 18\n",
    "Let P and Q be logical expressions. De Morgan’s rule states that NOT (P OR Q) = (NOT P) AND (NOT Q) and NOT (P AND Q) = (NOT P) OR (NOT Q). Generate the truth tables for each statement to show that De Morgan’s rule is always true."
   ]
  },
  {
   "cell_type": "markdown",
   "metadata": {},
   "source": [
    "### Problem 19\n",
    "Under what conditions for P and Q is (P AND Q) OR (P AND (NOT Q)) false?"
   ]
  },
  {
   "cell_type": "markdown",
   "metadata": {},
   "source": [
    "### Problem 20\n",
    "Construct an equivalent logical expression for OR using only AND and NOT."
   ]
  },
  {
   "cell_type": "markdown",
   "metadata": {},
   "source": [
    "### Problem 21\n",
    "Construct an equivalent logical expression for AND using only OR and NOT."
   ]
  },
  {
   "cell_type": "markdown",
   "metadata": {},
   "source": [
    "### Problem 22\n",
    "The logical operator XOR has the following truth table: Construct an equivalent logical expression for XOR using only AND, OR, and NOT that has the same truth table."
   ]
  },
  {
   "cell_type": "markdown",
   "metadata": {},
   "source": [
    "### Problem 23\n",
    "Do the following calculation at the Python command prompt: $$e^2 \\sin{\\pi}/6 + \\log_e(3) \\cos{\\pi}/9 − 53.$$"
   ]
  },
  {
   "cell_type": "markdown",
   "metadata": {},
   "source": [
    "### Problem 24\n",
    "Do the following logical and comparison operations at the Python command prompt. You may assume that P and Q are logical expressions. For P = 1 and Q = 1, compute NOT(P) AND NOT(Q). For a = 10 and b = 25, compute (a < b) AND (a = b)."
   ]
  },
  {
   "cell_type": "markdown",
   "metadata": {},
   "source": []
  }
 ],
 "metadata": {
  "kernelspec": {
   "display_name": "Python 3",
   "language": "python",
   "name": "python3"
  },
  "language_info": {
   "codemirror_mode": {
    "name": "ipython",
    "version": 3
   },
   "file_extension": ".py",
   "mimetype": "text/x-python",
   "name": "python",
   "nbconvert_exporter": "python",
   "pygments_lexer": "ipython3",
   "version": "3.13.1"
  }
 },
 "nbformat": 4,
 "nbformat_minor": 2
}
