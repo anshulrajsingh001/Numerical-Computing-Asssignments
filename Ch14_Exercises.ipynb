{
 "cells": [
  {
   "cell_type": "markdown",
   "metadata": {},
   "source": [
    "## Chapter 14 Exercises"
   ]
  },
  {
   "cell_type": "markdown",
   "metadata": {},
   "source": [
    "### Problem 3"
   ]
  },
  {
   "cell_type": "code",
   "execution_count": 10,
   "metadata": {},
   "outputs": [
    {
     "name": "stdout",
     "output_type": "stream",
     "text": [
      "1\n",
      "0\n"
     ]
    }
   ],
   "source": [
    "import numpy as np\n",
    "from numpy import arccos, dot\n",
    "from numpy.linalg import norm\n",
    "\n",
    "pi = np.pi\n",
    "def my_is_orthogonal(v1, v2, tol):\n",
    "    theta = arccos(dot(v1, v2.T))/(norm(v1)*norm(v2))\n",
    "    if np.absolute(pi/2 - theta) < tol:\n",
    "        return 1\n",
    "    else:\n",
    "        return 0\n",
    "    \n",
    "a = np.array([[1,0.001]])\n",
    "b = np.array([[0.001,1]])\n",
    "\n",
    "print(my_is_orthogonal(a,b, 0.01))\n",
    "print(my_is_orthogonal(a,b, 0.001))"
   ]
  },
  {
   "cell_type": "markdown",
   "metadata": {},
   "source": [
    "### Problem 4"
   ]
  },
  {
   "cell_type": "code",
   "execution_count": 29,
   "metadata": {},
   "outputs": [
    {
     "name": "stderr",
     "output_type": "stream",
     "text": [
      "C:\\Users\\Anshul\\AppData\\Local\\Temp\\ipykernel_11620\\1988769563.py:21: RuntimeWarning: invalid value encountered in arccos\n",
      "  theta = arccos(dot(v1, v2.T))/(norm(v1)*norm(v2))\n"
     ]
    },
    {
     "data": {
      "text/plain": [
       "0"
      ]
     },
     "execution_count": 29,
     "metadata": {},
     "output_type": "execute_result"
    }
   ],
   "source": [
    "import numpy as np\n",
    "from numpy import arccos, dot\n",
    "from numpy.linalg import norm\n",
    "\n",
    "def my_is_similar(s1, s2, tol):\n",
    "    s1.lower()\n",
    "    s2.lower()\n",
    "    alphabets = \"abcdefghijklmnopqrstuvwxyz\"\n",
    "    v1 = np.zeros((1, 26))\n",
    "    v2 = np.zeros((1, 26))\n",
    "\n",
    "    for i in range(26):\n",
    "        alph = alphabets[i]\n",
    "        for j in s1:\n",
    "            if j == alph:\n",
    "                v1[:, i:i+1] += 1\n",
    "        for k in s2:\n",
    "            if k == alph:\n",
    "                v2[:, i:i+1] += 1\n",
    "                \n",
    "    theta = arccos(dot(v1, v2.T))/(norm(v1)*norm(v2))\n",
    "    if np.absolute(pi/2 - theta) < tol:\n",
    "        return 1\n",
    "    else:\n",
    "        return 0\n",
    "\n",
    "my_is_similar(\"asdjhhkjhasd\", \"aosiueqwtkmnppqn\", 1)\n",
    "\n"
   ]
  },
  {
   "cell_type": "markdown",
   "metadata": {},
   "source": [
    "### Problem 12"
   ]
  },
  {
   "cell_type": "code",
   "execution_count": 8,
   "metadata": {},
   "outputs": [
    {
     "name": "stdout",
     "output_type": "stream",
     "text": [
      "(array([10. ,  4. , -2. ,  4.5,  5.5,  2.5,  1.5]), array([], dtype=float64), np.int32(6), array([2.12617871, 1.8123113 , 1.50725941, 1.        , 0.8768252 ,\n",
      "       0.39273211]))\n"
     ]
    }
   ],
   "source": [
    "import numpy as np\n",
    "def my_flow_calculator(S, d):\n",
    "    x = S[0, 0]\n",
    "    y = np.append(x, d)\n",
    "    the_matrix = np.array([[1, 0, 0, 0, 0, 0, 0], [0, 0, -1, 1, 0, -1, 0], [0, 0, 0, 0, 1, 0, -1], [0, 1, 0, 0, 0, 0, 0], [1, -1, 1, 0, 0, 0, 0], [0, 0, 0, 0, 0, 1, 1]])\n",
    "\n",
    "    f = np.linalg.lstsq(the_matrix, y)\n",
    "    return f\n",
    "\n",
    "\n",
    "s = np.array([[10, 10]])\n",
    "d = np.array([[4, 4, 4, 4, 4]])\n",
    "print(my_flow_calculator(s, d))\n"
   ]
  },
  {
   "cell_type": "code",
   "execution_count": 17,
   "metadata": {},
   "outputs": [
    {
     "data": {
      "text/plain": [
       "array([[0., 0., 0., 0., 0., 0., 0., 0., 0., 0., 0., 0., 0., 0., 0., 0.,\n",
       "        0., 0., 0., 0., 0., 0., 0., 0., 0., 0.]])"
      ]
     },
     "execution_count": 17,
     "metadata": {},
     "output_type": "execute_result"
    }
   ],
   "source": [
    "n = np.zeros((1, 26))\n",
    "n[:, :]"
   ]
  }
 ],
 "metadata": {
  "kernelspec": {
   "display_name": "Python 3",
   "language": "python",
   "name": "python3"
  },
  "language_info": {
   "codemirror_mode": {
    "name": "ipython",
    "version": 3
   },
   "file_extension": ".py",
   "mimetype": "text/x-python",
   "name": "python",
   "nbconvert_exporter": "python",
   "pygments_lexer": "ipython3",
   "version": "3.13.1"
  }
 },
 "nbformat": 4,
 "nbformat_minor": 2
}
