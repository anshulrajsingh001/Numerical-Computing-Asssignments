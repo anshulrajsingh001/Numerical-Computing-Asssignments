{
 "cells": [
  {
   "cell_type": "markdown",
   "metadata": {},
   "source": [
    "## Chapter 9 Exercises"
   ]
  },
  {
   "cell_type": "markdown",
   "metadata": {},
   "source": [
    "### Problem 1"
   ]
  },
  {
   "cell_type": "code",
   "execution_count": 23,
   "metadata": {},
   "outputs": [
    {
     "data": {
      "text/plain": [
       "33554431"
      ]
     },
     "execution_count": 23,
     "metadata": {},
     "output_type": "execute_result"
    }
   ],
   "source": [
    "def my_bin_2_dec(b):\n",
    "    dec = 0\n",
    "    for i in range(len(b)):\n",
    "        dec += 2**(len(b)-1-i)*b[i]\n",
    "    return dec\n",
    "my_bin_2_dec([1]*25)"
   ]
  },
  {
   "cell_type": "markdown",
   "metadata": {},
   "source": [
    "### Problem 2"
   ]
  },
  {
   "cell_type": "code",
   "execution_count": 18,
   "metadata": {},
   "outputs": [
    {
     "data": {
      "text/plain": [
       "[1, 0, 0, 0, 0, 0]"
      ]
     },
     "execution_count": 18,
     "metadata": {},
     "output_type": "execute_result"
    }
   ],
   "source": [
    "def my_dec_2_bin(d):\n",
    "    lst = []\n",
    "    if d == 0:\n",
    "        return [0]\n",
    "    else:\n",
    "        while d > 0:\n",
    "            lst.append(d%2)\n",
    "            d = int(d/2)\n",
    "        return lst[::-1]\n",
    "\n",
    "my_dec_2_bin(32)"
   ]
  },
  {
   "cell_type": "markdown",
   "metadata": {},
   "source": [
    "### Problem 3"
   ]
  },
  {
   "cell_type": "code",
   "execution_count": 26,
   "metadata": {},
   "outputs": [
    {
     "data": {
      "text/plain": [
       "12654"
      ]
     },
     "execution_count": 26,
     "metadata": {},
     "output_type": "execute_result"
    }
   ],
   "source": [
    "d = my_bin_2_dec(my_dec_2_bin(12654))\n",
    "d"
   ]
  },
  {
   "cell_type": "markdown",
   "metadata": {},
   "source": [
    "### Problem 6"
   ]
  },
  {
   "cell_type": "code",
   "execution_count": 22,
   "metadata": {},
   "outputs": [
    {
     "name": "stdout",
     "output_type": "stream",
     "text": [
      "-48.0\n",
      "3.4\n"
     ]
    }
   ],
   "source": [
    "def my_ieee_2_dec(ieee):\n",
    "    s = int(ieee[0])\n",
    "    sign = (-1)**s\n",
    "    ieee_exponent = -1023\n",
    "    for i in range(1, 12):\n",
    "        ieee_exponent += 2**(11-i)*int(ieee[i])\n",
    "    fraction = 0\n",
    "    for i in range(12, len(ieee)):\n",
    "        fraction += 2**(11-i)*int(ieee[i])\n",
    "    d = sign*2**(ieee_exponent)*(1+fraction)\n",
    "    return d\n",
    "\n",
    "ieee1 = \"1100000001001000000000000000000000000000000000000000000000000000\"\n",
    "ieee2 = \"0100000000001011001100110011001100110011001100110011001100110011\"\n",
    "print(my_ieee_2_dec(ieee1))\n",
    "print(my_ieee_2_dec(ieee2))"
   ]
  }
 ],
 "metadata": {
  "kernelspec": {
   "display_name": "Python 3",
   "language": "python",
   "name": "python3"
  },
  "language_info": {
   "codemirror_mode": {
    "name": "ipython",
    "version": 3
   },
   "file_extension": ".py",
   "mimetype": "text/x-python",
   "name": "python",
   "nbconvert_exporter": "python",
   "pygments_lexer": "ipython3",
   "version": "3.10.12"
  }
 },
 "nbformat": 4,
 "nbformat_minor": 2
}
