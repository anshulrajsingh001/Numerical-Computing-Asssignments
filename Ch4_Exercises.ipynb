{
 "cells": [
  {
   "cell_type": "markdown",
   "metadata": {},
   "source": [
    "## Chapter 4 Exercises"
   ]
  },
  {
   "cell_type": "markdown",
   "metadata": {},
   "source": [
    "### Problem 1\n",
    "Write a function my_tip_calc(bill, party) where bill is the total cost of a meal and party is the number of people in the group. The tip should be calculated as 15% for a party strictly less than six people, 18% for a party strictly less than eight, 20% for a party less than 11, and 25% for a party 11 or more."
   ]
  },
  {
   "cell_type": "code",
   "execution_count": 3,
   "metadata": {},
   "outputs": [
    {
     "name": "stdout",
     "output_type": "stream",
     "text": [
      "16.393500000000003\n",
      "19.6722\n",
      "21.858\n",
      "27.3225\n"
     ]
    }
   ],
   "source": [
    "def my_tip_calc(bill, party):\n",
    "    if party < 6:\n",
    "        tip = bill*15/100\n",
    "    elif party < 8:\n",
    "        tip = bill*18/100\n",
    "    elif party < 11:\n",
    "        tip = bill/5\n",
    "    else:\n",
    "        tip = bill/4\n",
    "    return tip\n",
    "\n",
    "print(my_tip_calc(109.29, 3))\n",
    "print(my_tip_calc(109.29, 7))\n",
    "print(my_tip_calc(109.29, 9))\n",
    "print(my_tip_calc(109.29, 12))"
   ]
  },
  {
   "cell_type": "markdown",
   "metadata": {},
   "source": [
    "### Problem 2\n",
    "Write a function my_mult_operation(a,b,operation). The input argument, operation, is a string that is either \"plus\", \"minus\", \"mult\", \"div\", or \"pow\", and the function should compute: a + b, a − b, a ∗ b, a/b, and ab for the respective values for operation. A couple of test cases are given below."
   ]
  },
  {
   "cell_type": "code",
   "execution_count": 4,
   "metadata": {},
   "outputs": [],
   "source": [
    "import numpy as np"
   ]
  },
  {
   "cell_type": "code",
   "execution_count": 5,
   "metadata": {},
   "outputs": [
    {
     "name": "stdout",
     "output_type": "stream",
     "text": [
      "[3 5 7 9]\n",
      "[-1 -1 -1 -1]\n",
      "[ 2  6 12 20]\n",
      "[0.5        0.66666667 0.75       0.8       ]\n",
      "[   1    8   81 1024]\n"
     ]
    }
   ],
   "source": [
    "def my_mult_operation(a, b, operation):\n",
    "    if operation == \"plus\":\n",
    "        return a + b\n",
    "    elif operation == \"minus\":\n",
    "        return a- b\n",
    "    elif operation == \"multiply\":\n",
    "        return a*b\n",
    "    elif operation == \"divide\":\n",
    "        return a/b\n",
    "    elif operation == \"pow\":\n",
    "        return a**b\n",
    "\n",
    "x = np.array([1,2,3,4])\n",
    "y = np.array([2,3,4,5])\n",
    "\n",
    "print(my_mult_operation(x,y,\"plus\"))\n",
    "print(my_mult_operation(x,y,\"minus\"))\n",
    "print(my_mult_operation(x,y,\"multiply\"))\n",
    "print(my_mult_operation(x,y,\"divide\"))\n",
    "print(my_mult_operation(x,y,\"pow\"))"
   ]
  },
  {
   "cell_type": "markdown",
   "metadata": {},
   "source": [
    "### Problem 3\n",
    "Consider a triangle with vertices at (0, 0), (1, 0), and (0, 1). Write a function with the name my_inside_triangle(x,y) where the output is the string \"outside\" if the point (x, y) is outside of the triangle, \"border\" if the point is exactly on the border of the triangle, and \"inside\" if the point is on the inside of the triangle."
   ]
  },
  {
   "cell_type": "code",
   "execution_count": 6,
   "metadata": {},
   "outputs": [
    {
     "name": "stdout",
     "output_type": "stream",
     "text": [
      "border\n",
      "inside\n",
      "outside\n"
     ]
    }
   ],
   "source": [
    "p1 = (0, 0)\n",
    "p2 = (1, 0)\n",
    "p3 = (0, 1)\n",
    "\n",
    "def my_inside_triangle(x, y):\n",
    "    if x > 0 and y > 0 and x + y < 1:\n",
    "        return \"inside\"\n",
    "    elif x == 0 or y == 0 or x + y == 1:\n",
    "        return \"border\"\n",
    "    else:\n",
    "        return \"outside\"\n",
    "    \n",
    "print(my_inside_triangle(.5,.5))\n",
    "print(my_inside_triangle(.25,.25))\n",
    "print(my_inside_triangle(5,5))\n"
   ]
  },
  {
   "cell_type": "markdown",
   "metadata": {},
   "source": [
    "### Problem 4\n",
    "Write a function my_make_size10(x) where x is an array, and output is the first 10 elements of x if x has more than 10 elements, and output is the array x padded with enough zeros to make it length 10 if x has less than 10 elements."
   ]
  },
  {
   "cell_type": "code",
   "execution_count": 41,
   "metadata": {},
   "outputs": [
    {
     "data": {
      "text/plain": [
       "[1, 2, 3, 4, 0, 0, 0, 0, 0, 0]"
      ]
     },
     "execution_count": 41,
     "metadata": {},
     "output_type": "execute_result"
    }
   ],
   "source": [
    "def my_make_size10(x):\n",
    "    lst = list(x)\n",
    "    if len(x) == 10:\n",
    "        return list(x)\n",
    "    elif len(x) < 10:\n",
    "        for i in range(10-len(x)):\n",
    "            lst.append(0)\n",
    "        return lst\n",
    "    else:\n",
    "        return list(x)[:10]\n",
    "    \n",
    "my_make_size10(range(1, 5))"
   ]
  },
  {
   "cell_type": "markdown",
   "metadata": {},
   "source": [
    "### Problem 5\n",
    "Can you write my_make_size10 without using if-statements (i.e., using only logical and array operations)?"
   ]
  },
  {
   "cell_type": "markdown",
   "metadata": {},
   "source": [
    "### Problem 6\n",
    "Write a function my_letter_grader(percent) where the grade is the string \"A+\" if percent is greater than 97, \"A\" if percent is greater than 93, \"A-\" if percent is greater than 90, \"B+\" if percent is greater than 87, \"B\" if percent is greater than 83, \"B-\" if percent is greater than 80, \"C+\" if percent is greater than 77, \"C\" if percent is greater than 73, \"C-\" if percent is greater than 70, \"D+\" if percent is greater than 67, \"D\" if percent is greater than 63, \"D-\" if percent is greater than 60, and \"F\" for any percent less than 60. Grades exactly on the division should be included in the higher grade category."
   ]
  },
  {
   "cell_type": "code",
   "execution_count": 20,
   "metadata": {},
   "outputs": [
    {
     "name": "stdout",
     "output_type": "stream",
     "text": [
      "A\n",
      "F\n"
     ]
    }
   ],
   "source": [
    "def my_letter_grader(percent):\n",
    "    if percent > 97:\n",
    "        return \"A+\"\n",
    "    elif percent > 90:\n",
    "        return \"A\"\n",
    "    elif percent > 90:\n",
    "        return \"A-\"\n",
    "    elif percent > 90:\n",
    "        return \"B+\"\n",
    "    elif percent > 90:\n",
    "        return \"B\"\n",
    "    elif percent > 90:\n",
    "        return \"B-\"\n",
    "    elif percent > 90:\n",
    "        return \"C+\"\n",
    "    elif percent > 90:\n",
    "        return \"C\"\n",
    "    elif percent > 90:\n",
    "        return \"C-\"\n",
    "    elif percent > 90:\n",
    "        return \"D+\"\n",
    "    elif percent > 90:\n",
    "        return \"D\"\n",
    "    elif percent > 90:\n",
    "        return \"D-\"\n",
    "    else:\n",
    "        return \"F\"\n",
    "    \n",
    "print(my_letter_grader(97))\n",
    "print(my_letter_grader(84))"
   ]
  },
  {
   "cell_type": "markdown",
   "metadata": {},
   "source": [
    "\n",
    "### Problem 7\n",
    "Most engineering systems have a built-in redundancy. That is, an engineering system has fail-safes incorporated into the design to accomplish its purpose. Consider a nuclear reactor whose temperature is monitored by three sensors. An alarm should go off if any two of the sensor readings disagree. Write a function my_nuke_alarm(s1,s2,s3) where s1, s2, and s3 are the temperature readings for sensor 1, sensor 2, and sensor 3, respectively. The output should be the string \"alarm!\" if any two of the temperature readings disagree by strictly more than 10 degrees and \"normal\" otherwise."
   ]
  },
  {
   "cell_type": "code",
   "execution_count": 24,
   "metadata": {},
   "outputs": [
    {
     "name": "stdout",
     "output_type": "stream",
     "text": [
      "normal\n",
      "alarm!\n"
     ]
    }
   ],
   "source": [
    "def my_nuke_alarm(s1, s2, s3):\n",
    "    if np.absolute(s1-s2) > 10 or np.absolute(s1-s3) > 10 or np.absolute(s2-s3) > 10:\n",
    "        return \"alarm!\"\n",
    "    else:\n",
    "        return \"normal\"\n",
    "    \n",
    "print(my_nuke_alarm(94,96,90))\n",
    "print(my_nuke_alarm(94,96,80))"
   ]
  },
  {
   "cell_type": "markdown",
   "metadata": {},
   "source": [
    "### Problem 8\n",
    "Let $Q(x)$ be the quadratic equation $Q(x) = ax^2 + bx + c$ for some scalar values $a, b$, and $c$. A root of $Q(x)$ is an $r$ such that $Q(r) = 0$. The two roots of a quadratic equation can be described by the quadratic formula, which is $r = \\frac{-b\\pm\\sqrt{b^2-4ac}}{2a}.$ A quadratic equation has either two real roots (i.e., $b^2 > 4ac$), two imaginary roots (i.e., $b2 < 4ac$), or one root $r = − b/2a$. Write a function my_n_roots(a,b,c), where $a$, $b$, and $c$ are the coefficients of the quadratic $Q(x)$. The function should return two values: n_roots and r. Also n_roots is 2 if $Q$ has two real roots, 1 if $Q$ has one root, −2 if $Q$ has two imaginary roots, and r is an array containing the roots of $Q$."
   ]
  },
  {
   "cell_type": "code",
   "execution_count": 11,
   "metadata": {},
   "outputs": [
    {
     "data": {
      "text/plain": [
       "('n_roots = -2',\n",
       " 'r = [(-0.6666666666666666+1.1055415967851332j), (-0.6666666666666666-1.1055415967851332j)]')"
      ]
     },
     "execution_count": 11,
     "metadata": {},
     "output_type": "execute_result"
    }
   ],
   "source": [
    "import numpy as np\n",
    "def my_n_roots(a, b, c):\n",
    "    d = b**2 - 4*a*c\n",
    "    if d > 0:\n",
    "        return f\"n_roots = {2}\", f\"r = {[(-b + np.sqrt(d))/(2*a), (-b - np.sqrt(d))/(2*a)]}\"\n",
    "    elif d == 0:\n",
    "        return f\"n_roots = {1}\", f\"r = {(-b + np.sqrt(d))/(2*a)}\"\n",
    "    else:\n",
    "        return f\"n_roots = {-2}\", f\"r = {[complex((-b)/(2*a), np.sqrt(-1*d)/(2*a)), complex((-b)/(2*a), -1*np.sqrt(-1*d)/(2*a))]}\"\n",
    "    \n",
    "my_n_roots(3,4,5)"
   ]
  },
  {
   "cell_type": "markdown",
   "metadata": {},
   "source": [
    "### Problem 9\n",
    "Write a function my_split_function(f,g,a,b,x), where $f$ and $g$ are function objects $f(x)$ and $g(x)$, respectively. The output should be $f(x)$ if $x \\leq a, g(x)$ if $x \\geq b$, and 0 otherwise. Assume that $b > a$."
   ]
  },
  {
   "cell_type": "code",
   "execution_count": 12,
   "metadata": {},
   "outputs": [
    {
     "data": {
      "text/plain": [
       "np.float64(2.718281828459045)"
      ]
     },
     "execution_count": 12,
     "metadata": {},
     "output_type": "execute_result"
    }
   ],
   "source": [
    "def my_split_function(f, g, a, b, x):\n",
    "    if x <= a:\n",
    "        return f(x)\n",
    "    elif x>=b:\n",
    "        return g(x)\n",
    "    else:\n",
    "        return 0\n",
    "    \n",
    "my_split_function(np.exp, np.sin, 2, 4, 1)"
   ]
  }
 ],
 "metadata": {
  "kernelspec": {
   "display_name": "Python 3",
   "language": "python",
   "name": "python3"
  },
  "language_info": {
   "codemirror_mode": {
    "name": "ipython",
    "version": 3
   },
   "file_extension": ".py",
   "mimetype": "text/x-python",
   "name": "python",
   "nbconvert_exporter": "python",
   "pygments_lexer": "ipython3",
   "version": "3.13.1"
  }
 },
 "nbformat": 4,
 "nbformat_minor": 2
}
