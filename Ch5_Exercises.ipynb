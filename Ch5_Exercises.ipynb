{
 "cells": [
  {
   "cell_type": "markdown",
   "metadata": {},
   "source": [
    "## Chapter 5"
   ]
  },
  {
   "cell_type": "markdown",
   "metadata": {},
   "source": [
    "### Problem 4\n",
    "Let m be a matrix of positive integers. Write a function my_trig_odd_even(m) to return an array q, where q[i, j] = sin(m[i, j]) if m[i, j] is even, and q[i, j] = cos(m[i, j]) if m[i, j] is odd."
   ]
  },
  {
   "cell_type": "code",
   "execution_count": 6,
   "metadata": {},
   "outputs": [
    {
     "data": {
      "text/plain": [
       "array([[ 0.84147098, -0.41614684,  0.14112001],\n",
       "       [-0.41614684,  0.14112001, -0.65364362],\n",
       "       [-0.65364362, -0.95892427,  0.96017029]])"
      ]
     },
     "execution_count": 6,
     "metadata": {},
     "output_type": "execute_result"
    }
   ],
   "source": [
    "import numpy as np\n",
    "def my_trig_odd_even(m):\n",
    "    q = np.zeros((m.shape[0], m.shape[1]))\n",
    "    for i in range(m.shape[0]):\n",
    "        for j in range(m.shape[1]):\n",
    "            if m[i, j] % 2 == 1:\n",
    "                q[i, j] = np.sin(m[i, j])\n",
    "            else:\n",
    "                q[i, j] = np.cos(m[i, j])\n",
    "    return q\n",
    "\n",
    "\n",
    "p = np.array([[1, 2, 3], [2, 3, 4], [4, 5, 6]])\n",
    "my_trig_odd_even(p)"
   ]
  },
  {
   "cell_type": "markdown",
   "metadata": {},
   "source": [
    "### Problem 5\n",
    "Let $P$ be an $m \\times p$ array and $Q$ be a $p \\times n$ array. As you will find later in this book, $M = P \\times Q$ is defined as $M[i, j ] = \\sum\\limits_{k=1}^p P[i, k] \\cdot Q[k,j ]$. Write a function my_mat_mult(P, Q) that uses for-loops to compute M, the matrix product of P * Q. Hint: You may need up to three nested for-loops. Do not use the function np.dot."
   ]
  },
  {
   "cell_type": "code",
   "execution_count": 7,
   "metadata": {},
   "outputs": [
    {
     "data": {
      "text/plain": [
       "array([[30., 30., 30.],\n",
       "       [70., 70., 70.]])"
      ]
     },
     "execution_count": 7,
     "metadata": {},
     "output_type": "execute_result"
    }
   ],
   "source": [
    "def my_mat_mult(P, Q):\n",
    "    M = np.zeros((P.shape[0], Q.shape[1]))\n",
    "    for i in range(P.shape[0]):\n",
    "        for j in range(Q.shape[1]):\n",
    "            for k in range(P.shape[1]):\n",
    "                M[i, j] += P[i, k]*Q[k, j]\n",
    "    return M\n",
    "\n",
    "P = np.array([[1, 2, 3, 4], [5, 6, 7, 8]])\n",
    "Q = np.array([[1, 1, 1], [2, 2, 2], [3, 3, 3], [4, 4, 4]])\n",
    "my_mat_mult(P, Q)"
   ]
  },
  {
   "cell_type": "markdown",
   "metadata": {},
   "source": [
    "### Problem 8\n",
    "Assume you are rolling two six-sided dice, with each side having an equal chance of occurring. Write a function my_monopoly_dice() where the output is the sum of the values of the two dice thrown but with the following extra rule: if the two dice rolls are the same, then another roll is made, and the new sum added to the running total. For example, if the two dice show 3 and 4, then the running total should be 7. If the two dice show 1 and 1, then the running total should be 2 plus the total of another throw. Rolls stop when the dice rolls are different."
   ]
  },
  {
   "cell_type": "code",
   "execution_count": 3,
   "metadata": {},
   "outputs": [
    {
     "data": {
      "text/plain": [
       "5"
      ]
     },
     "execution_count": 3,
     "metadata": {},
     "output_type": "execute_result"
    }
   ],
   "source": [
    "import random\n",
    "\n",
    "def my_monopoly_dice():\n",
    "    d1 = random.randint(1, 6)\n",
    "    d2 = random.randint(1, 6)\n",
    "\n",
    "    if d1 == d2:\n",
    "        sum = d1 + d2\n",
    "        while d1 == d2:\n",
    "            d1 = random.randint(1, 6)\n",
    "            d2 = random.randint(1, 6)\n",
    "            sum += d1 + d2\n",
    "        return sum\n",
    "    else:\n",
    "        return d1 + d2\n",
    "    \n",
    "my_monopoly_dice()\n"
   ]
  },
  {
   "cell_type": "markdown",
   "metadata": {},
   "source": [
    "### Problem 10\n",
    "Write a function my_n_primes(n) where prime is a list of the first n primes. Assume that n is a strictly positive integer."
   ]
  },
  {
   "cell_type": "code",
   "execution_count": 6,
   "metadata": {},
   "outputs": [
    {
     "ename": "KeyboardInterrupt",
     "evalue": "",
     "output_type": "error",
     "traceback": [
      "\u001b[0;31m---------------------------------------------------------------------------\u001b[0m",
      "\u001b[0;31mKeyboardInterrupt\u001b[0m                         Traceback (most recent call last)",
      "Cell \u001b[0;32mIn[6], line 11\u001b[0m\n\u001b[1;32m      8\u001b[0m     \u001b[38;5;28;01mreturn\u001b[39;00m lst\n\u001b[1;32m     10\u001b[0m n \u001b[38;5;241m=\u001b[39m \u001b[38;5;241m1\u001b[39m\n\u001b[0;32m---> 11\u001b[0m \u001b[38;5;28;01mwhile\u001b[39;00m \u001b[43mmy_n_primes\u001b[49m\u001b[43m(\u001b[49m\u001b[43mn\u001b[49m\u001b[43m)\u001b[49m[\u001b[38;5;241m-\u001b[39m\u001b[38;5;241m1\u001b[39m] \u001b[38;5;241m<\u001b[39m \u001b[38;5;241m199999\u001b[39m:\n\u001b[1;32m     12\u001b[0m     n \u001b[38;5;241m+\u001b[39m\u001b[38;5;241m=\u001b[39m \u001b[38;5;241m1\u001b[39m\n\u001b[1;32m     14\u001b[0m \u001b[38;5;28mprint\u001b[39m(n)\n",
      "Cell \u001b[0;32mIn[6], line 6\u001b[0m, in \u001b[0;36mmy_n_primes\u001b[0;34m(n)\u001b[0m\n\u001b[1;32m      4\u001b[0m \u001b[38;5;28;01mwhile\u001b[39;00m \u001b[38;5;28mlen\u001b[39m(lst) \u001b[38;5;241m<\u001b[39m n:\n\u001b[1;32m      5\u001b[0m     \u001b[38;5;28;01mif\u001b[39;00m \u001b[38;5;241m0\u001b[39m \u001b[38;5;129;01mnot\u001b[39;00m \u001b[38;5;129;01min\u001b[39;00m [i\u001b[38;5;241m%\u001b[39mj \u001b[38;5;28;01mfor\u001b[39;00m j \u001b[38;5;129;01min\u001b[39;00m lst]:\n\u001b[0;32m----> 6\u001b[0m         \u001b[43mlst\u001b[49m\u001b[38;5;241;43m.\u001b[39;49m\u001b[43mappend\u001b[49m\u001b[43m(\u001b[49m\u001b[43mi\u001b[49m\u001b[43m)\u001b[49m\n\u001b[1;32m      7\u001b[0m     i \u001b[38;5;241m+\u001b[39m\u001b[38;5;241m=\u001b[39m \u001b[38;5;241m2\u001b[39m\n\u001b[1;32m      8\u001b[0m \u001b[38;5;28;01mreturn\u001b[39;00m lst\n",
      "\u001b[0;31mKeyboardInterrupt\u001b[0m: "
     ]
    }
   ],
   "source": [
    "def my_n_primes(n):\n",
    "    lst = [2]\n",
    "    i = 3\n",
    "    while len(lst) < n:\n",
    "        if 0 not in [i%j for j in lst]:\n",
    "            lst.append(i)\n",
    "        i += 2\n",
    "    return lst\n",
    "\n",
    "n = 1\n",
    "while my_n_primes(n)[-1] < 199999:\n",
    "    n += 1\n",
    "\n",
    "print(n)\n",
    "print(my_n_primes(n)[-1])"
   ]
  },
  {
   "cell_type": "markdown",
   "metadata": {},
   "source": [
    "### Problem 13\n",
    "Let C be a square connectivity array containing zeros and ones. Point i has a connection to point j or i is connected to j if C[i,j] = 1. Note that connections in this context are one-directional, meaning C[i,j] is not necessarily the same as C[j,i]. For example, think of a one-way street from point A to point B. If A is connected to B, then B is not necessarily connected to A.\\\n",
    "Write a function my_connectivity_mat_2_dict(C, names) where C is a connectivity array and names is a list of strings that denote the name of a point. That is, names[i] is the name of the name of the ith point.\\\n",
    "The output variable node should be a dictionary with the key as the string in names, and value is a vector containing the indices j, such that C[i,j] = 1. In other words, it is a list of points that point i is connected to."
   ]
  },
  {
   "cell_type": "code",
   "execution_count": 5,
   "metadata": {},
   "outputs": [],
   "source": [
    "def my_connectivity_mat_2_dict(C, names):\n",
    "    node = {}\n",
    "    for i in range(len(names)):\n",
    "        node[names[i]] = [j+1 for j in range(len(C[1])) if C[i][j] == 1]\n",
    "    return node\n",
    "\n",
    "C = [[0, 1, 0, 1], [1, 0, 0, 1], [0, 0, 0, 1], [1, 1, 1, 0]]\n",
    "names = [\"Los Angeles\", \"New York\", \"Miami\", \"Dallas\"]\n",
    "\n",
    "node = my_connectivity_mat_2_dict(C, names)"
   ]
  }
 ],
 "metadata": {
  "kernelspec": {
   "display_name": "Python 3",
   "language": "python",
   "name": "python3"
  },
  "language_info": {
   "codemirror_mode": {
    "name": "ipython",
    "version": 3
   },
   "file_extension": ".py",
   "mimetype": "text/x-python",
   "name": "python",
   "nbconvert_exporter": "python",
   "pygments_lexer": "ipython3",
   "version": "3.10.12"
  }
 },
 "nbformat": 4,
 "nbformat_minor": 2
}
