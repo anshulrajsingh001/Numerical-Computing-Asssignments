{
 "cells": [
  {
   "cell_type": "markdown",
   "metadata": {},
   "source": [
    "## Chapter 8 Exercises"
   ]
  },
  {
   "cell_type": "markdown",
   "metadata": {},
   "source": [
    "### Problem 7"
   ]
  },
  {
   "cell_type": "code",
   "execution_count": 8,
   "metadata": {},
   "outputs": [],
   "source": [
    "import numpy as np"
   ]
  },
  {
   "cell_type": "markdown",
   "metadata": {},
   "source": [
    "#### First Code:"
   ]
  },
  {
   "cell_type": "code",
   "execution_count": 9,
   "metadata": {},
   "outputs": [
    {
     "name": "stdout",
     "output_type": "stream",
     "text": [
      "CPU times: user 44 μs, sys: 7 μs, total: 51 μs\n",
      "Wall time: 52.5 μs\n"
     ]
    }
   ],
   "source": [
    "%%time \n",
    "### Using Magic Command ####\n",
    "def my_fib_iter1(n):\n",
    "    out = np.zeros(n)\n",
    "    out[:2] = 1\n",
    "    for i in range(2, n):\n",
    "        out[i] = out[i-1] + out[i-2]\n",
    "    return out\n",
    "\n",
    "a = my_fib_iter1(100)"
   ]
  },
  {
   "cell_type": "markdown",
   "metadata": {},
   "source": [
    "###### Run `!python -m pip install line_profiler` before running."
   ]
  },
  {
   "cell_type": "code",
   "execution_count": 11,
   "metadata": {},
   "outputs": [
    {
     "name": "stdout",
     "output_type": "stream",
     "text": [
      "The line_profiler extension is already loaded. To reload it, use:\n",
      "  %reload_ext line_profiler\n"
     ]
    }
   ],
   "source": [
    "%load_ext line_profiler"
   ]
  },
  {
   "cell_type": "code",
   "execution_count": 15,
   "metadata": {},
   "outputs": [
    {
     "name": "stdout",
     "output_type": "stream",
     "text": [
      "Timer unit: 1e-09 s\n",
      "\n",
      "Total time: 0.000129838 s\n",
      "File: /tmp/ipykernel_1516/3412730191.py\n",
      "Function: my_fib_iter1 at line 2\n",
      "\n",
      "Line #      Hits         Time  Per Hit   % Time  Line Contents\n",
      "==============================================================\n",
      "     2                                           def my_fib_iter1(n):\n",
      "     3         1      20978.0  20978.0     16.2      out = np.zeros(n)\n",
      "     4         1      17175.0  17175.0     13.2      out[:2] = 1\n",
      "     5        99      21476.0    216.9     16.5      for i in range(2, n):\n",
      "     6        98      69907.0    713.3     53.8          out[i] = out[i-1] + out[i-2]\n",
      "     7         1        302.0    302.0      0.2      return out"
     ]
    }
   ],
   "source": [
    "### Using Line Profiler ###\n",
    "%lprun -f my_fib_iter1 my_fib_iter1(100)"
   ]
  },
  {
   "cell_type": "markdown",
   "metadata": {},
   "source": [
    "#### Second Code:"
   ]
  },
  {
   "cell_type": "code",
   "execution_count": 13,
   "metadata": {},
   "outputs": [
    {
     "name": "stdout",
     "output_type": "stream",
     "text": [
      "CPU times: user 84 μs, sys: 13 μs, total: 97 μs\n",
      "Wall time: 101 μs\n"
     ]
    }
   ],
   "source": [
    "%%time \n",
    "### Using Magic Command ####\n",
    "def my_fib_iter2(n):\n",
    "    out = [1, 1]\n",
    "    for i in range(2, n):\n",
    "        out.append(out[i-1]+out[i-2])\n",
    "    return np.array(out)\n",
    "\n",
    "b = my_fib_iter2(100)"
   ]
  },
  {
   "cell_type": "code",
   "execution_count": 14,
   "metadata": {},
   "outputs": [
    {
     "name": "stdout",
     "output_type": "stream",
     "text": [
      "Timer unit: 1e-09 s\n",
      "\n",
      "Total time: 7.581e-05 s\n",
      "\n",
      "Could not find file <timed exec>\n",
      "Are you sure you are running this program from the same directory\n",
      "that you ran the profiler from?\n",
      "Continuing without the function's contents.\n",
      "\n",
      "Line #      Hits         Time  Per Hit   % Time  Line Contents\n",
      "==============================================================\n",
      "     2                                           \n",
      "     3         1        969.0    969.0      1.3  \n",
      "     4        99      13296.0    134.3     17.5  \n",
      "     5        98      33782.0    344.7     44.6  \n",
      "     6         1      27763.0  27763.0     36.6"
     ]
    }
   ],
   "source": [
    "### Using Line Profiler ###\n",
    "%lprun -f my_fib_iter2 my_fib_iter2(100)"
   ]
  }
 ],
 "metadata": {
  "kernelspec": {
   "display_name": "Python 3",
   "language": "python",
   "name": "python3"
  },
  "language_info": {
   "codemirror_mode": {
    "name": "ipython",
    "version": 3
   },
   "file_extension": ".py",
   "mimetype": "text/x-python",
   "name": "python",
   "nbconvert_exporter": "python",
   "pygments_lexer": "ipython3",
   "version": "3.10.12"
  }
 },
 "nbformat": 4,
 "nbformat_minor": 2
}
