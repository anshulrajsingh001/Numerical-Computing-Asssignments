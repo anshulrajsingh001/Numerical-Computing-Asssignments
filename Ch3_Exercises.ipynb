{
 "cells": [
  {
   "cell_type": "markdown",
   "metadata": {
    "vscode": {
     "languageId": "plaintext"
    }
   },
   "source": [
    "## Chapter 3 Exercises"
   ]
  },
  {
   "cell_type": "markdown",
   "metadata": {},
   "source": [
    "### Problem 1\n",
    "Recall that the hyperbolic sine, denoted by sinh, is $(\\exp (x)−\\exp (−x)) / 2$ . Write a function my_sinh(x) where the output y is the hyperbolic sine computed on x. Assume that x is a 1 by 1 float.\n"
   ]
  },
  {
   "cell_type": "code",
   "execution_count": 38,
   "metadata": {},
   "outputs": [
    {
     "name": "stdout",
     "output_type": "stream",
     "text": [
      "1.1752011936438014\n"
     ]
    }
   ],
   "source": [
    "import numpy as np\n",
    "\n",
    "def my_sinh(x):\n",
    "    return np.sinh(x)\n",
    "\n",
    "print(my_sinh(1))"
   ]
  },
  {
   "cell_type": "markdown",
   "metadata": {},
   "source": [
    "### Problem 2\n",
    "Write a function my_checker_board(n) where the output m is an n × n array with the following form: $$m = \\begin{matrix}1 && 0 && 1 && 0 && 1\\\\ 0 && 1 && 0 && 1 && 0\\\\ 1 && 0 && 1 && 0 && 1\\\\ 0 && 1 && 0 && 1 && 0\\\\ 1 && 0 && 1 && 0 && 1\\\\\\end{matrix}$$\n",
    "Note that the upper-left element should always be 1. Assume that n is a strictly positive integer."
   ]
  },
  {
   "cell_type": "code",
   "execution_count": 39,
   "metadata": {},
   "outputs": [
    {
     "data": {
      "text/plain": [
       "array([[1., 0., 1., 0., 1.],\n",
       "       [0., 1., 0., 1., 0.],\n",
       "       [1., 0., 1., 0., 1.],\n",
       "       [0., 1., 0., 1., 0.],\n",
       "       [1., 0., 1., 0., 1.]])"
      ]
     },
     "execution_count": 39,
     "metadata": {},
     "output_type": "execute_result"
    }
   ],
   "source": [
    "def my_checker_board(n):\n",
    "    m = np.zeros((n, n))\n",
    "    for i in range(n):\n",
    "        for j in range(n):\n",
    "            if (i + j) % 2 == 0:\n",
    "                m[i][j] = 1\n",
    "    return m\n",
    "\n",
    "my_checker_board(5)"
   ]
  },
  {
   "cell_type": "markdown",
   "metadata": {},
   "source": [
    "### Problem 3\n",
    "Write a function my_triangle(b,h) where the output is the area of a triangle with base, b, and height, h. Recall that the area of a triangle is one-half the base times the height. Assume that b and h are just 1 by 1 float numbers."
   ]
  },
  {
   "cell_type": "code",
   "execution_count": 40,
   "metadata": {},
   "outputs": [],
   "source": [
    "def my_triangle(b, h):\n",
    "    return 0.5*b*h"
   ]
  },
  {
   "cell_type": "markdown",
   "metadata": {},
   "source": [
    "### Problem 4\n",
    "Write a function my_split_matrix(m), where m is an array, the output is a list [m1, m2] where m1 is the left half of m, and m2 is the right half of m. In the case where there is an odd number of columns, the middle column should go to m1. Assume that m has at least two columns."
   ]
  },
  {
   "cell_type": "code",
   "execution_count": 41,
   "metadata": {},
   "outputs": [
    {
     "data": {
      "text/plain": [
       "(array([[1, 2],\n",
       "        [4, 5],\n",
       "        [7, 8]]),\n",
       " array([[3],\n",
       "        [6],\n",
       "        [9]]))"
      ]
     },
     "execution_count": 41,
     "metadata": {},
     "output_type": "execute_result"
    }
   ],
   "source": [
    "mat = np.array([[1, 2, 3], [4, 5, 6], [7, 8, 9]])\n",
    "\n",
    "def my_split_matrix(m):\n",
    "    if np.shape(m)[1] % 2 == 1:\n",
    "        return m[:,:int((np.shape(m)[1]+1)/2)], m[:,int((np.shape(m)[1]+1)/2):]\n",
    "    else:\n",
    "        return m[:,:int((np.shape(m)[1])/2)], m[:,int((np.shape(m)[1])/2):]\n",
    "\n",
    "m1, m2 = my_split_matrix(mat)\n",
    "m1, m2"
   ]
  },
  {
   "cell_type": "markdown",
   "metadata": {},
   "source": [
    "### Problem 5\n",
    "Write a function my_cylinder(r,h), where r and h are the radius and height of a cylinder, respectively, and the output is a list [s, v] where s and v are the surface area and volume of the same cylinder, respectively. Recall that the surface area of a cylinder is $2\\pi r^2 + 2\\pi rh$, and the volume is $\\pi r^2h$. Assume that r and h are 1 by 1 floats."
   ]
  },
  {
   "cell_type": "code",
   "execution_count": 42,
   "metadata": {},
   "outputs": [
    {
     "data": {
      "text/plain": [
       "[37.69911184307752, 15.707963267948966]"
      ]
     },
     "execution_count": 42,
     "metadata": {},
     "output_type": "execute_result"
    }
   ],
   "source": [
    "def my_cylinder(r, h):\n",
    "    return [2*np.pi*r*r + 2*np.pi*r*h, np.pi*r*r*h]\n",
    "\n",
    "my_cylinder(1, 5)"
   ]
  },
  {
   "cell_type": "markdown",
   "metadata": {},
   "source": [
    "### Problem 6\n",
    "Write a function my_n_odds(a), where a is a one-dimensional array of floats and the output is the number of odd numbers in a."
   ]
  },
  {
   "cell_type": "code",
   "execution_count": 43,
   "metadata": {},
   "outputs": [
    {
     "data": {
      "text/plain": [
       "50"
      ]
     },
     "execution_count": 43,
     "metadata": {},
     "output_type": "execute_result"
    }
   ],
   "source": [
    "def my_n_odds(a):\n",
    "    s = 0\n",
    "    for num in a:\n",
    "        if int(num) - num  == 0 and int(num) % 2 == 1:\n",
    "            s += 1\n",
    "    return s\n",
    "\n",
    "my_n_odds(np.arange(100))"
   ]
  },
  {
   "cell_type": "markdown",
   "metadata": {},
   "source": [
    "### Problem 7\n",
    "Write a function my_twos(m,n) where the output is an m × n array of twos. Assume that m and n are strictly positive integers."
   ]
  },
  {
   "cell_type": "code",
   "execution_count": 44,
   "metadata": {},
   "outputs": [
    {
     "data": {
      "text/plain": [
       "array([[2., 2., 2., 2., 2.],\n",
       "       [2., 2., 2., 2., 2.],\n",
       "       [2., 2., 2., 2., 2.],\n",
       "       [2., 2., 2., 2., 2.]])"
      ]
     },
     "execution_count": 44,
     "metadata": {},
     "output_type": "execute_result"
    }
   ],
   "source": [
    "def my_twos(m, n):\n",
    "    return 2 * np.ones((m, n))\n",
    "\n",
    "my_twos(4, 5)"
   ]
  },
  {
   "cell_type": "markdown",
   "metadata": {},
   "source": [
    "### Problem 8\n",
    "Write a lambda function that takes in input x and y, and the output is the value of x-y."
   ]
  },
  {
   "cell_type": "code",
   "execution_count": 45,
   "metadata": {},
   "outputs": [
    {
     "data": {
      "text/plain": [
       "3"
      ]
     },
     "execution_count": 45,
     "metadata": {},
     "output_type": "execute_result"
    }
   ],
   "source": [
    "difference = lambda x, y: x-y\n",
    "difference(5, 2)"
   ]
  },
  {
   "cell_type": "markdown",
   "metadata": {},
   "source": [
    "### Problem 9\n",
    "Write a function add_string(s1, s2) where the output is the concatenation of the strings s1 and s2."
   ]
  },
  {
   "cell_type": "code",
   "execution_count": 46,
   "metadata": {},
   "outputs": [
    {
     "data": {
      "text/plain": [
       "'Programming is fun!'"
      ]
     },
     "execution_count": 46,
     "metadata": {},
     "output_type": "execute_result"
    }
   ],
   "source": [
    "def add_string(s1, s2):\n",
    "    return s1 + s2\n",
    "\n",
    "s1 = add_string(\"Programming\", \" \")\n",
    "s2 = add_string(\"is \", \"fun!\")\n",
    "add_string(s1, s2)"
   ]
  },
  {
   "cell_type": "markdown",
   "metadata": {},
   "source": [
    "### Problem 10\n",
    "Generate the following errors:\n",
    "- TypeError: fun() missing 1 required positional argument: \"a\"\n",
    "-  IndentationError: expected an indented block"
   ]
  },
  {
   "cell_type": "markdown",
   "metadata": {},
   "source": [
    "### Problem 11\n",
    "Write a function greeting(name, age) where name is a string, age is a float, and the output is a string \"Hi, my name is XXX and I am XXX years old.\" where XXX are the input name and age, respectively."
   ]
  },
  {
   "cell_type": "code",
   "execution_count": 47,
   "metadata": {},
   "outputs": [
    {
     "data": {
      "text/plain": [
       "'Hi, my name is John and I am 26 years old.'"
      ]
     },
     "execution_count": 47,
     "metadata": {},
     "output_type": "execute_result"
    }
   ],
   "source": [
    "def greeting(name, age):\n",
    "    return f\"Hi, my name is {name} and I am {age} years old.\"\n",
    "\n",
    "greeting(\"John\", 26)"
   ]
  },
  {
   "cell_type": "markdown",
   "metadata": {},
   "source": [
    "### Problem 12\n",
    "Let r1 and r2 be the radius of circles with the same center and let r2 > r1. Write a function my_donut_area(r1, r2) where the output is the area outside of the circle with radius r1 and inside the circle with radius r2. Make sure that the function is vectorized. Assume that r1 and r2 are one-dimensional arrays of the same size."
   ]
  },
  {
   "cell_type": "code",
   "execution_count": 48,
   "metadata": {},
   "outputs": [
    {
     "data": {
      "text/plain": [
       "array([ 9.42477796, 37.69911184, 84.82300165])"
      ]
     },
     "execution_count": 48,
     "metadata": {},
     "output_type": "execute_result"
    }
   ],
   "source": [
    "def my_donut_area(r1, r2):\n",
    "    return np.pi*(r2**2 - r1**2)\n",
    "\n",
    "my_donut_area(np.arange(1, 4), np.arange(2, 7, 2))"
   ]
  },
  {
   "cell_type": "markdown",
   "metadata": {},
   "source": [
    "### Problem 13\n",
    "Write a function my_within_tolerance(A, a, tol) where the output is an array or list of the indices in A such that |A − a| < tol. Assume that A is a one-dimensional float list or array, and that a and tol are 1 by 1 floats."
   ]
  },
  {
   "cell_type": "code",
   "execution_count": 49,
   "metadata": {},
   "outputs": [
    {
     "data": {
      "text/plain": [
       "[1, 2]"
      ]
     },
     "execution_count": 49,
     "metadata": {},
     "output_type": "execute_result"
    }
   ],
   "source": [
    "def my_within_tolerance(A, a, tol):\n",
    "    return [b for b in A if np.absolute(b-a) < tol]\n",
    "\n",
    "my_within_tolerance([0, 1, 2, 3], 1.5, 0.75)\n"
   ]
  },
  {
   "cell_type": "markdown",
   "metadata": {},
   "source": [
    "### Problem 14\n",
    "Write a function bounding_array(A, top, bottom) where the output is equal to the array A wherever bottom < A < top, the output is equal to bottom wherever A <= bottom, and the output is equal to top wherever A >= top. Assume that A is a one-dimensional float array and that top and bottom are 1 by 1 floats."
   ]
  },
  {
   "cell_type": "code",
   "execution_count": 50,
   "metadata": {},
   "outputs": [
    {
     "data": {
      "text/plain": [
       "[-3, -3, -3, -2.0, -1.0, 0.0, 1.0, 2.0, 3, 3, 3]"
      ]
     },
     "execution_count": 50,
     "metadata": {},
     "output_type": "execute_result"
    }
   ],
   "source": [
    "def bounding_array(A, top, bottom):\n",
    "    lst = []\n",
    "    for i in A:\n",
    "        if i <= bottom:\n",
    "            lst.append(bottom)\n",
    "        elif i >= top:\n",
    "            lst.append(top)\n",
    "        else:\n",
    "            lst.append(float(i))\n",
    "    return lst\n",
    "\n",
    "bounding_array(np.arange(-5, 6, 1), 3, -3)"
   ]
  }
 ],
 "metadata": {
  "kernelspec": {
   "display_name": "Python 3",
   "language": "python",
   "name": "python3"
  },
  "language_info": {
   "codemirror_mode": {
    "name": "ipython",
    "version": 3
   },
   "file_extension": ".py",
   "mimetype": "text/x-python",
   "name": "python",
   "nbconvert_exporter": "python",
   "pygments_lexer": "ipython3",
   "version": "3.13.1"
  }
 },
 "nbformat": 4,
 "nbformat_minor": 2
}
