{
 "cells": [
  {
   "cell_type": "markdown",
   "metadata": {},
   "source": [
    "## Chapter 6 Exercises"
   ]
  },
  {
   "cell_type": "markdown",
   "metadata": {},
   "source": [
    "### Problem 2\n",
    "Chebyshev polynomials are defined recursively and separated into two kinds: first and second. Chebyshev polynomials of the first kind, $T_n(x)$, and of the second kind, $U_n(x)$, are defined by the following recurrence relations: $$T_n(x) = \\begin{cases}1 && \\text{if } n = 0\\\\ x && \\text{if } n = 1\\\\ 2xT_{n-1}(x)-T_{n-2}(x) && \\text{otherwise}\\end{cases}$$ $$U_n(x) = \\begin{cases}1 && \\text{if } n = 0\\\\ 2x && \\text{if } n = 1\\\\ 2xU_{n-1}(x)-U_{n-2}(x) && \\text{otherwise}\\end{cases}$$\n",
    "Write a function my_chebyshev_poly1(n,x) where the output y is the nth Chebyshev polynomial of the first kind evaluated at x. Be sure your function can take list inputs for x. You may assume that x is a list. The output variable, y, must be a list also."
   ]
  },
  {
   "cell_type": "code",
   "execution_count": 28,
   "metadata": {},
   "outputs": [
    {
     "data": {
      "text/plain": [
       "[1, 26, 99, 244, 485]"
      ]
     },
     "execution_count": 28,
     "metadata": {},
     "output_type": "execute_result"
    }
   ],
   "source": [
    "def my_chebyshev_poly1(n, x):\n",
    "    lst = []\n",
    "    if n == 0:\n",
    "        for i in x:\n",
    "            lst.append(1)\n",
    "    elif n == 1:\n",
    "        lst = x\n",
    "    else:\n",
    "        for i in range(len(x)):\n",
    "            lst.append(2*x[i]*my_chebyshev_poly1(n-1, x)[i] - my_chebyshev_poly1(n-2, x)[i])\n",
    "    return lst\n",
    "    \n",
    "x = [1, 2, 3, 4, 5]\n",
    "my_chebyshev_poly1(3, x)"
   ]
  },
  {
   "cell_type": "markdown",
   "metadata": {},
   "source": [
    "### Problem 3\n",
    "The Ackermann function, A, is a function quickly growing in popularity that is defined by the recursive relationship: $$A(m, n) = \\begin{cases}n + 1 && \\text{if } m = 0\\\\ A(m-1, 1) && \\text{if } m>0 \\text{ and } n = 0\\\\ A(m-1, A(m, n-1)) && \\text{if } m>0 \\text{ and } n>0\\end{cases}$$ Write a function my_ackermann(m,n) where the output is the Ackermann function computed for m and n. my_ackermann(4,4) is so large that it would be difficult to write down. Although the Ackermann function does not have many practical uses, the inverse Ackermann function has several uses in robotic motion planning."
   ]
  },
  {
   "cell_type": "code",
   "execution_count": null,
   "metadata": {},
   "outputs": [
    {
     "name": "stdout",
     "output_type": "stream",
     "text": [
      "3\n",
      "4\n",
      "9\n",
      "61\n",
      "125\n"
     ]
    }
   ],
   "source": [
    "def my_ackermann(m, n):\n",
    "    if m == 0:\n",
    "        val = n+1\n",
    "    elif m > 0 and n == 0:\n",
    "        val = my_ackermann(m-1, 1)\n",
    "    elif m > 0 and n > 0:\n",
    "        val = my_ackermann(m-1, my_ackermann(m, n-1))\n",
    "    return val\n",
    "\n",
    "print(my_ackermann(1,1))\n",
    "print(my_ackermann(1,2))\n",
    "print(my_ackermann(2,3))\n",
    "print(my_ackermann(3,3))\n",
    "print(my_ackermann(3,4))"
   ]
  },
  {
   "cell_type": "markdown",
   "metadata": {},
   "source": [
    "### Problem 6\n",
    "The golden ratio, $\\phi$, is the limit of $\\frac{F(n+1)}{F(n)}$ as n goes to infinity and $F(n)$ is the nth Fibonacci number, which can be shown to be exactly $\\frac{1+\\sqrt{5}}{2}$ and is approximately 1.62. We say that $G(n) = \\frac{F(n+1)}{F(n)}$ is the nth approximation of the golden ratio and $G(1) = 1$. It can be shown that $\\phi$ is also the limit of the continued fraction:\n",
    "\n",
    "$$\\phi = 1+\\cfrac{1}{1+\\cfrac{1}{1+\\cfrac{1}{1+\\cfrac{1}{1+\\ddots}}}}$$\n",
    "\n",
    "Write a recursive function with the header my_golden_ratio(n), where the output is the nth approximation of the golden ratio according to the continued fraction recursive relationship. Use the continued fraction approximation for the golden ratio and not the $G(n) = F (n + 1)/F (n)$ deﬁnition; however, for both deﬁnitions, $G(1) = 1$. Studies have shown that rectangles with aspect ratio (i.e., length divided by width) close to the golden ratio are more pleasing to the eye than rectangles that are not. What is the aspect ratio of many wide-screen TVs and movie screens?"
   ]
  },
  {
   "cell_type": "code",
   "execution_count": 1,
   "metadata": {},
   "outputs": [
    {
     "data": {
      "text/plain": [
       "1.6181818181818182"
      ]
     },
     "execution_count": 1,
     "metadata": {},
     "output_type": "execute_result"
    }
   ],
   "source": [
    "def my_golden_ratio(n):\n",
    "    if n == 1:\n",
    "        g = 1\n",
    "    else:\n",
    "        g = 1 + 1 / my_golden_ratio(n-1)\n",
    "    return g\n",
    "my_golden_ratio(10)"
   ]
  },
  {
   "cell_type": "markdown",
   "metadata": {},
   "source": [
    "### Problem 8\n",
    "Pascal’s triangle is an arrangement of numbers such that each row is equivalent to the coefﬁcients of the binomial expansion of $(x + y)^{p−1}$, where p is some positive integer more than or equal to 1. For example, $(x + y)^2 = x^2 + 2xy + y^2$; therefore, the third row of Pascal’s triangle is 1 2 1. Let $R_m$ represent the mth row of Pascal’s triangle and $R_m(n)$ be the nth element of the row. By\n",
    "deﬁnition, $R_m$ has m elements, and $R_m(1) = R_m(n) = 1$. The remaining elements are computed using the following recursive relationship: $R_m(i) = R_{m−1}(i − 1) + R_{m−1}(i)$ for $i = 2,\\cdots, m − 1$."
   ]
  },
  {
   "cell_type": "code",
   "execution_count": 27,
   "metadata": {},
   "outputs": [
    {
     "data": {
      "text/plain": [
       "[1, 8, 28, 56, 70, 56, 28, 8, 1]"
      ]
     },
     "execution_count": 27,
     "metadata": {},
     "output_type": "execute_result"
    }
   ],
   "source": [
    "def my_pascal_row(m):\n",
    "    lst = []\n",
    "    if m == 1:\n",
    "        lst = [1]\n",
    "    elif m == 2:\n",
    "        lst = [1, 1]\n",
    "    else:\n",
    "        lst.append(1)\n",
    "        for i in range(1, m-1):\n",
    "            lst.append(my_pascal_row(m-1)[i-1] + my_pascal_row(m-1)[i])\n",
    "        lst.append(1)\n",
    "    return lst\n",
    "    \n",
    "my_pascal_row(9)\n",
    "    "
   ]
  },
  {
   "cell_type": "markdown",
   "metadata": {},
   "source": [
    "### Problem 9\n",
    "Consider an $n\\times n$ matrix of the following form: $$\\begin{bmatrix}1 && 1 && 1 && 1 && 1\\\\ 1 && 0 && 0 && 0 && 0\\\\ 1 && 0 && 1 && 1 && 0\\\\ 1 && 0 && 0 && 1 && 0\\\\ 1 && 1 && 1 && 1 && 0\\end{bmatrix}$$\n",
    "where the ones form a right spiral. Write a function my_spiral_ones(n) that produces a $n\\times n$ matrix of the given form. Make sure that the recursive steps are in the correct order (i.e., the ones go right, then down, then left, then up, then right, etc.)."
   ]
  },
  {
   "cell_type": "code",
   "execution_count": 41,
   "metadata": {},
   "outputs": [],
   "source": [
    "import numpy as np"
   ]
  },
  {
   "cell_type": "code",
   "execution_count": 42,
   "metadata": {},
   "outputs": [
    {
     "data": {
      "text/plain": [
       "array([[1, 1, 1, 1, 1],\n",
       "       [1, 0, 0, 0, 0],\n",
       "       [1, 0, 1, 1, 0],\n",
       "       [1, 0, 0, 1, 0],\n",
       "       [1, 1, 1, 1, 0]], dtype=int32)"
      ]
     },
     "execution_count": 42,
     "metadata": {},
     "output_type": "execute_result"
    }
   ],
   "source": [
    "def my_spiral_ones(n):\n",
    "    spi = np.zeros((n, n))\n",
    "    if n == 1:\n",
    "        spi = np.array([[1]])\n",
    "    elif n % 4 == 1 and n > 1:\n",
    "        spi[:1, :] = 1\n",
    "        spi[1:n, :n-1] = my_spiral_ones(n-1)\n",
    "    elif n % 4 == 2:\n",
    "        spi[:, n-1:] = 1\n",
    "        spi[:n-1, :n-1] = my_spiral_ones(n-1)\n",
    "    elif n % 4 == 3:\n",
    "        spi[n-1:, :] = 1\n",
    "        spi[:n-1, 1:n] = my_spiral_ones(n-1)\n",
    "    elif n % 4 == 0:\n",
    "        spi[:, :1] = 1\n",
    "        spi[1:n, 1:n] = my_spiral_ones(n-1)\n",
    "    return spi.astype(np.int32)\n",
    "\n",
    "my_spiral_ones(5)\n"
   ]
  }
 ],
 "metadata": {
  "kernelspec": {
   "display_name": "Python 3",
   "language": "python",
   "name": "python3"
  },
  "language_info": {
   "codemirror_mode": {
    "name": "ipython",
    "version": 3
   },
   "file_extension": ".py",
   "mimetype": "text/x-python",
   "name": "python",
   "nbconvert_exporter": "python",
   "pygments_lexer": "ipython3",
   "version": "3.13.1"
  }
 },
 "nbformat": 4,
 "nbformat_minor": 2
}
