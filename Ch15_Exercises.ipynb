{
 "cells": [
  {
   "cell_type": "markdown",
   "metadata": {},
   "source": [
    "## Chapter 15 Exercises"
   ]
  },
  {
   "cell_type": "markdown",
   "metadata": {},
   "source": [
    "## Problem 1\n",
    "Write down the characteristic equation for matrix $A = \\begin{bmatrix}3 & 2\\\\ 5 & 3\\end{bmatrix}$. (Using python)"
   ]
  },
  {
   "cell_type": "code",
   "execution_count": 17,
   "metadata": {},
   "outputs": [
    {
     "name": "stdout",
     "output_type": "stream",
     "text": [
      "The characteristic polynomial of A is:\n"
     ]
    },
    {
     "data": {
      "text/latex": [
       "$\\displaystyle \\lambda^{2} - 6 \\lambda - 1$"
      ],
      "text/plain": [
       "lambda**2 - 6*lambda - 1"
      ]
     },
     "execution_count": 17,
     "metadata": {},
     "output_type": "execute_result"
    }
   ],
   "source": [
    "from sympy import Matrix\n",
    "from sympy.abc import x, y\n",
    "A = Matrix([[3, 2], [5, 3]])\n",
    "A.charpoly()\n",
    "A.charpoly(x) == A.charpoly(y)\n",
    "A.charpoly(x) == A.charpoly(y)\n",
    "print(f\"The characteristic polynomial of A is:\")\n",
    "A.charpoly().as_expr()"
   ]
  },
  {
   "cell_type": "markdown",
   "metadata": {},
   "source": [
    "### Problem 2\n",
    "Use the above characteristic equation to solve for eigenvalues and eigenvectors of matrix $A$. (Using python)"
   ]
  },
  {
   "cell_type": "code",
   "execution_count": null,
   "metadata": {},
   "outputs": [
    {
     "name": "stdout",
     "output_type": "stream",
     "text": [
      "Eigenvalues of A are: {3 - sqrt(10): 1, 3 + sqrt(10): 1}\n",
      " Eigenvectors of A are: (-sqrt(10)/5, 1) and (sqrt(10)/5, 1)\n"
     ]
    }
   ],
   "source": [
    "import numpy as np\n",
    "import sympy as sp\n",
    "\n",
    "A = sp.Matrix([[3, 2], [5, 3]])\n",
    "\n",
    "print(f\"Eigenvalues of A are: {A.eigenvals()}\")\n",
    "print(f\" Eigenvectors of A are: {A.eigenvects()[0][2][0][0], A.eigenvects()[0][2][0][1]} and {A.eigenvects()[1][2][0][0], A.eigenvects()[1][2][0][1]}\")"
   ]
  },
  {
   "cell_type": "markdown",
   "metadata": {},
   "source": [
    "### Problem 3\n",
    "Use the first eigenvector derived from Problem 2 to verify that $Ax = \\lambda x$. (Using python)"
   ]
  },
  {
   "cell_type": "code",
   "execution_count": 125,
   "metadata": {},
   "outputs": [
    {
     "name": "stdout",
     "output_type": "stream",
     "text": [
      "Below, we refer to the eigen vectors as x and eigenvalues as lambda.\n",
      " Value of Ax: [ 0.1026334  -0.16227766] and [3.8973666  6.16227766]\n",
      "Value of lambda * x: [ 0.1026334  -0.16227766] and [3.8973666  6.16227766]\n",
      "We can see that Ax and lambda * x gives the same result.\n"
     ]
    }
   ],
   "source": [
    "import numpy as np\n",
    "import sympy as sp\n",
    "\n",
    "A = sp.Matrix([[3, 2], [5, 3]])\n",
    "B = np.array([[3, 2], [5, 3]])\n",
    "\n",
    "eig_vect1 = np.array([float(A.eigenvects()[0][2][0][0]), float(A.eigenvects()[0][2][0][1])])\n",
    "eig_vect2 = np.array([float(A.eigenvects()[1][2][0][0]), float(A.eigenvects()[1][2][0][1])])\n",
    "\n",
    "eig_val1 = float(list(A.eigenvals().keys())[0])\n",
    "eig_val2 = float(list(A.eigenvals().keys())[1])\n",
    "\n",
    "print(\"Below, we refer to the eigen vectors as x and eigenvalues as lambda.\")\n",
    "\n",
    "print(f\" Value of Ax: {B.T[0]*eig_vect1[0] + B.T[1]*eig_vect1[1]} and {B.T[0]*eig_vect2[0] + B.T[1]*eig_vect2[1]}\")\n",
    "\n",
    "print(f\"Value of lambda * x: {eig_val1*eig_vect1} and {eig_val2*eig_vect2}\")\n",
    "\n",
    "print(\"We can see that Ax and lambda * x gives the same result.\")"
   ]
  }
 ],
 "metadata": {
  "kernelspec": {
   "display_name": "Python 3",
   "language": "python",
   "name": "python3"
  },
  "language_info": {
   "codemirror_mode": {
    "name": "ipython",
    "version": 3
   },
   "file_extension": ".py",
   "mimetype": "text/x-python",
   "name": "python",
   "nbconvert_exporter": "python",
   "pygments_lexer": "ipython3",
   "version": "3.13.1"
  }
 },
 "nbformat": 4,
 "nbformat_minor": 2
}
